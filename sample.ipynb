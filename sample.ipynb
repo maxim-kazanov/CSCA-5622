{
  "nbformat": 4,
  "nbformat_minor": 0,
  "metadata": {
    "colab": {
      "provenance": [],
      "authorship_tag": "ABX9TyPowPKFGVm2cLXkR+S/X2JS"
    },
    "kernelspec": {
      "name": "python3",
      "display_name": "Python 3"
    },
    "language_info": {
      "name": "python"
    }
  },
  "cells": [
    {
      "cell_type": "code",
      "execution_count": 3,
      "metadata": {
        "colab": {
          "base_uri": "https://localhost:8080/"
        },
        "id": "qeDZIktHNJ56",
        "outputId": "b2f40ef7-e723-4f83-a704-77c26a88d243"
      },
      "outputs": [
        {
          "output_type": "stream",
          "name": "stdout",
          "text": [
            "Hello World!\n",
            "Hi,  0\n",
            "Hi,  1\n",
            "Hi,  2\n",
            "Hi,  3\n",
            "Hi,  4\n",
            "Hi,  5\n",
            "Hi,  6\n",
            "Hi,  7\n",
            "Hi,  8\n",
            "Hi,  9\n"
          ]
        }
      ],
      "source": [
        "print('Hello World!')\n",
        "for i in range(0,10):\n",
        "  print('Hi, ', i)"
      ]
    }
  ]
}