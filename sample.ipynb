{
  "nbformat": 4,
  "nbformat_minor": 0,
  "metadata": {
    "colab": {
      "provenance": [],
      "authorship_tag": "ABX9TyNSNLi5E2b9efYhiDN2XWFw",
      "include_colab_link": true
    },
    "kernelspec": {
      "name": "python3",
      "display_name": "Python 3"
    },
    "language_info": {
      "name": "python"
    }
  },
  "cells": [
    {
      "cell_type": "markdown",
      "metadata": {
        "id": "view-in-github",
        "colab_type": "text"
      },
      "source": [
        "<a href=\"https://colab.research.google.com/github/maxim-kazanov/CSCA-5622/blob/main/sample.ipynb\" target=\"_parent\"><img src=\"https://colab.research.google.com/assets/colab-badge.svg\" alt=\"Open In Colab\"/></a>"
      ]
    },
    {
      "cell_type": "code",
      "execution_count": 1,
      "metadata": {
        "colab": {
          "base_uri": "https://localhost:8080/"
        },
        "id": "qeDZIktHNJ56",
        "outputId": "2fa5cc2f-745f-468e-f4c0-8e0aa5e65f48"
      },
      "outputs": [
        {
          "output_type": "stream",
          "name": "stdout",
          "text": [
            "Hello New World!\n",
            "Hi,  0\n",
            "Hi,  1\n",
            "Hi,  2\n",
            "Hi,  3\n",
            "Hi,  4\n",
            "Hi,  5\n",
            "Hi,  6\n",
            "Hi,  7\n",
            "Hi,  8\n",
            "Hi,  9\n"
          ]
        }
      ],
      "source": [
        "print('Hello New World!')\n",
        "for i in range(0,10):\n",
        "  print('Hi, ', i)"
      ]
    }
  ]
}